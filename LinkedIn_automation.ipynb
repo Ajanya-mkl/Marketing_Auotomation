{
 "cells": [
  {
   "cell_type": "code",
   "execution_count": 1,
   "id": "e22723ce",
   "metadata": {},
   "outputs": [
    {
     "name": "stdout",
     "output_type": "stream",
     "text": [
      "Collecting python-linkedin\n",
      "  Downloading python-linkedin-4.1.tar.gz (8.4 kB)\n",
      "  Preparing metadata (setup.py): started\n",
      "  Preparing metadata (setup.py): finished with status 'done'\n",
      "Requirement already satisfied: requests>=1.1.0 in c:\\users\\admin\\anaconda3\\lib\\site-packages (from python-linkedin) (2.28.1)\n",
      "Collecting requests-oauthlib>=0.3\n",
      "  Downloading requests_oauthlib-1.3.1-py2.py3-none-any.whl (23 kB)\n",
      "Requirement already satisfied: idna<4,>=2.5 in c:\\users\\admin\\anaconda3\\lib\\site-packages (from requests>=1.1.0->python-linkedin) (3.3)\n",
      "Requirement already satisfied: certifi>=2017.4.17 in c:\\users\\admin\\anaconda3\\lib\\site-packages (from requests>=1.1.0->python-linkedin) (2022.9.14)\n",
      "Requirement already satisfied: urllib3<1.27,>=1.21.1 in c:\\users\\admin\\anaconda3\\lib\\site-packages (from requests>=1.1.0->python-linkedin) (1.26.11)\n",
      "Requirement already satisfied: charset-normalizer<3,>=2 in c:\\users\\admin\\anaconda3\\lib\\site-packages (from requests>=1.1.0->python-linkedin) (2.0.4)\n",
      "Collecting oauthlib>=3.0.0\n",
      "  Downloading oauthlib-3.2.2-py3-none-any.whl (151 kB)\n",
      "     ------------------------------------ 151.7/151.7 kB 377.2 kB/s eta 0:00:00\n",
      "Building wheels for collected packages: python-linkedin\n",
      "  Building wheel for python-linkedin (setup.py): started\n",
      "  Building wheel for python-linkedin (setup.py): finished with status 'done'\n",
      "  Created wheel for python-linkedin: filename=python_linkedin-4.1-py3-none-any.whl size=9692 sha256=cbf05d6a2711c2ecc6b78cc4e1fde1d64493ce8c869becc0fe315b13749b2439\n",
      "  Stored in directory: c:\\users\\admin\\appdata\\local\\pip\\cache\\wheels\\db\\c2\\41\\945ce815de82d97de5d5e5970c0dbb19fe065a5a703c58ab18\n",
      "Successfully built python-linkedin\n",
      "Installing collected packages: oauthlib, requests-oauthlib, python-linkedin\n",
      "Successfully installed oauthlib-3.2.2 python-linkedin-4.1 requests-oauthlib-1.3.1\n",
      "Note: you may need to restart the kernel to use updated packages.\n"
     ]
    }
   ],
   "source": [
    "pip install python-linkedin\n"
   ]
  },
  {
   "cell_type": "code",
   "execution_count": 2,
   "id": "29325d59",
   "metadata": {},
   "outputs": [
    {
     "name": "stdout",
     "output_type": "stream",
     "text": [
      "Collecting python-linkedin-v2\n",
      "  Downloading python-linkedin-v2-0.9.4.tar.gz (9.3 kB)\n",
      "  Preparing metadata (setup.py): started\n",
      "  Preparing metadata (setup.py): finished with status 'done'\n",
      "Requirement already satisfied: requests>=1.1.0 in c:\\users\\admin\\anaconda3\\lib\\site-packages (from python-linkedin-v2) (2.28.1)\n",
      "Requirement already satisfied: requests-oauthlib>=0.3 in c:\\users\\admin\\anaconda3\\lib\\site-packages (from python-linkedin-v2) (1.3.1)\n",
      "Requirement already satisfied: urllib3<1.27,>=1.21.1 in c:\\users\\admin\\anaconda3\\lib\\site-packages (from requests>=1.1.0->python-linkedin-v2) (1.26.11)\n",
      "Requirement already satisfied: charset-normalizer<3,>=2 in c:\\users\\admin\\anaconda3\\lib\\site-packages (from requests>=1.1.0->python-linkedin-v2) (2.0.4)\n",
      "Requirement already satisfied: idna<4,>=2.5 in c:\\users\\admin\\anaconda3\\lib\\site-packages (from requests>=1.1.0->python-linkedin-v2) (3.3)\n",
      "Requirement already satisfied: certifi>=2017.4.17 in c:\\users\\admin\\anaconda3\\lib\\site-packages (from requests>=1.1.0->python-linkedin-v2) (2022.9.14)\n",
      "Requirement already satisfied: oauthlib>=3.0.0 in c:\\users\\admin\\anaconda3\\lib\\site-packages (from requests-oauthlib>=0.3->python-linkedin-v2) (3.2.2)\n",
      "Building wheels for collected packages: python-linkedin-v2\n",
      "  Building wheel for python-linkedin-v2 (setup.py): started\n",
      "  Building wheel for python-linkedin-v2 (setup.py): finished with status 'done'\n",
      "  Created wheel for python-linkedin-v2: filename=python_linkedin_v2-0.9.4-py3-none-any.whl size=10178 sha256=10cb3b2d84ce55003db1175fb441570d20d4f8e438be53ba8df5873de17f23b8\n",
      "  Stored in directory: c:\\users\\admin\\appdata\\local\\pip\\cache\\wheels\\cd\\31\\6e\\0e53440167a3e0d81977108e92064db72ae57d80e3ab93f2a4\n",
      "Successfully built python-linkedin-v2\n",
      "Installing collected packages: python-linkedin-v2\n",
      "Successfully installed python-linkedin-v2-0.9.4\n",
      "Note: you may need to restart the kernel to use updated packages.\n"
     ]
    }
   ],
   "source": [
    "pip install python-linkedin-v2\n"
   ]
  },
  {
   "cell_type": "code",
   "execution_count": 65,
   "id": "8874fc3a",
   "metadata": {},
   "outputs": [
    {
     "ename": "AttributeError",
     "evalue": "'Response' object has no attribute 'get'",
     "output_type": "error",
     "traceback": [
      "\u001b[1;31m---------------------------------------------------------------------------\u001b[0m",
      "\u001b[1;31mAttributeError\u001b[0m                            Traceback (most recent call last)",
      "\u001b[1;32m~\\AppData\\Local\\Temp\\ipykernel_9952\\3263204081.py\u001b[0m in \u001b[0;36m<module>\u001b[1;34m\u001b[0m\n\u001b[0;32m     75\u001b[0m     \u001b[0maccess_token\u001b[0m \u001b[1;33m=\u001b[0m \u001b[0mos\u001b[0m\u001b[1;33m.\u001b[0m\u001b[0menviron\u001b[0m\u001b[1;33m.\u001b[0m\u001b[0mget\u001b[0m\u001b[1;33m(\u001b[0m\u001b[1;34m\"ACCESS_TOKEN\"\u001b[0m\u001b[1;33m)\u001b[0m\u001b[1;33m\u001b[0m\u001b[1;33m\u001b[0m\u001b[0m\n\u001b[0;32m     76\u001b[0m \u001b[1;33m\u001b[0m\u001b[0m\n\u001b[1;32m---> 77\u001b[1;33m     \u001b[0mLinkedInAutomation\u001b[0m\u001b[1;33m(\u001b[0m\u001b[0maccess_token\u001b[0m\u001b[1;33m)\u001b[0m\u001b[1;33m.\u001b[0m\u001b[0mmain\u001b[0m\u001b[1;33m(\u001b[0m\u001b[1;33m)\u001b[0m\u001b[1;33m\u001b[0m\u001b[1;33m\u001b[0m\u001b[0m\n\u001b[0m",
      "\u001b[1;32m~\\AppData\\Local\\Temp\\ipykernel_9952\\3263204081.py\u001b[0m in \u001b[0;36mmain\u001b[1;34m(self)\u001b[0m\n\u001b[0;32m     61\u001b[0m \u001b[1;33m\u001b[0m\u001b[0m\n\u001b[0;32m     62\u001b[0m     \u001b[1;32mdef\u001b[0m \u001b[0mmain\u001b[0m\u001b[1;33m(\u001b[0m\u001b[0mself\u001b[0m\u001b[1;33m)\u001b[0m\u001b[1;33m:\u001b[0m\u001b[1;33m\u001b[0m\u001b[1;33m\u001b[0m\u001b[0m\n\u001b[1;32m---> 63\u001b[1;33m         \u001b[0mnew_connections\u001b[0m \u001b[1;33m=\u001b[0m \u001b[0mself\u001b[0m\u001b[1;33m.\u001b[0m\u001b[0mget_new_connections\u001b[0m\u001b[1;33m(\u001b[0m\u001b[1;33m)\u001b[0m\u001b[1;33m\u001b[0m\u001b[1;33m\u001b[0m\u001b[0m\n\u001b[0m\u001b[0;32m     64\u001b[0m \u001b[1;33m\u001b[0m\u001b[0m\n\u001b[0;32m     65\u001b[0m         \u001b[1;32mfor\u001b[0m \u001b[0mconnection\u001b[0m \u001b[1;32min\u001b[0m \u001b[0mnew_connections\u001b[0m\u001b[1;33m:\u001b[0m\u001b[1;33m\u001b[0m\u001b[1;33m\u001b[0m\u001b[0m\n",
      "\u001b[1;32m~\\AppData\\Local\\Temp\\ipykernel_9952\\3263204081.py\u001b[0m in \u001b[0;36mget_new_connections\u001b[1;34m(self)\u001b[0m\n\u001b[0;32m     35\u001b[0m     \u001b[1;31m# Handle the case when connections_data is not a dictionary-like object\u001b[0m\u001b[1;33m\u001b[0m\u001b[1;33m\u001b[0m\u001b[0m\n\u001b[0;32m     36\u001b[0m \u001b[1;33m\u001b[0m\u001b[0m\n\u001b[1;32m---> 37\u001b[1;33m          \u001b[1;32mfor\u001b[0m \u001b[0mnotification\u001b[0m \u001b[1;32min\u001b[0m \u001b[0mconnections_data\u001b[0m\u001b[1;33m.\u001b[0m\u001b[0mget\u001b[0m\u001b[1;33m(\u001b[0m\u001b[1;34m'elements'\u001b[0m\u001b[1;33m,\u001b[0m \u001b[1;33m[\u001b[0m\u001b[1;33m]\u001b[0m\u001b[1;33m)\u001b[0m\u001b[1;33m:\u001b[0m\u001b[1;33m\u001b[0m\u001b[1;33m\u001b[0m\u001b[0m\n\u001b[0m\u001b[0;32m     38\u001b[0m             connection_info = {\n\u001b[0;32m     39\u001b[0m                 \u001b[1;34m'name'\u001b[0m\u001b[1;33m:\u001b[0m \u001b[0mnotification\u001b[0m\u001b[1;33m[\u001b[0m\u001b[1;34m'actor'\u001b[0m\u001b[1;33m]\u001b[0m\u001b[1;33m[\u001b[0m\u001b[1;34m'name'\u001b[0m\u001b[1;33m]\u001b[0m\u001b[1;33m,\u001b[0m\u001b[1;33m\u001b[0m\u001b[1;33m\u001b[0m\u001b[0m\n",
      "\u001b[1;31mAttributeError\u001b[0m: 'Response' object has no attribute 'get'"
     ]
    }
   ],
   "source": [
    "import requests\n",
    "import json\n",
    "import os\n",
    "\n",
    "class LinkedInAutomation:\n",
    "    def __init__(self, access_token):\n",
    "        self.access_token = access_token\n",
    "        self.headers = {\n",
    "            'Authorization': f'Bearer {self.access_token}',\n",
    "            'Content-Type': 'application/json',\n",
    "        }\n",
    "\n",
    "    def get_new_connections(self):\n",
    "        url = \"https://www.linkedin.com/company/linked-tracker1/\"\n",
    "        response = requests.get(url, headers=self.headers)\n",
    "        connections_data = response\n",
    "\n",
    "        # Extract relevant information from the connections_data and return the new connections\n",
    "        # implement the logic to extract details like 'About Us' section, job description,\n",
    "        # recent posts of the new connections, and return the connection details as needed.\n",
    "        new_connections = []\n",
    "    \n",
    "\n",
    "        # Verify that connections_data is a dictionary-like object\n",
    "        if isinstance(connections_data, dict):\n",
    "            for notification in connections_data.get('elements', []):\n",
    "                 connection_info = {\n",
    "                     'name': notification['actor']['name'],\n",
    "                'profile_url': notification['actor']['navigationEndpoint']['url'],\n",
    "            }\n",
    "            new_connections.append(connection_info)\n",
    "        # Process the connection_info data\n",
    "        else:\n",
    "    # Handle the case when connections_data is not a dictionary-like object\n",
    "\n",
    "         for notification in connections_data.get('elements', []):\n",
    "            connection_info = {\n",
    "                'name': notification['actor']['name'],\n",
    "                'profile_url': notification['actor']['navigationEndpoint']['url'],\n",
    "            }\n",
    "            new_connections.append(connection_info)\n",
    "\n",
    "            return new_connections\n",
    "\n",
    "        def send_connection_request(self, profile_url, message):\n",
    "            url = \"POST https://api.linkedin.com/v2/ugcPosts\"\n",
    "            payload = {\n",
    "            'recipients': [{'profile': profile_url}],\n",
    "            'message': {'com.linkedin.invitation.Message': message}\n",
    "               }\n",
    "            response = requests.get(url, headers=headers)\n",
    "        if response.text:\n",
    "                 json_data = response.json()\n",
    "    # Process the JSON data\n",
    "        else:\n",
    "    # Handle the case when the response is empty\n",
    "\n",
    "         return response\n",
    "\n",
    "    def main(self):\n",
    "        new_connections = self.get_new_connections()\n",
    "\n",
    "        for connection in new_connections:\n",
    "            profile_url = connection['profile_url']\n",
    "            message = f\"Hi {connection['name']}, I noticed we recently connected on LinkedIn. I wanted to reach out and introduce myself. I am impressed by your background and the work you do. Let's connect and explore potential synergies between our organizations. Looking forward to connecting with you!\"\n",
    "            response = self.send_connection_request(profile_url, message)\n",
    "            if response.status_code == 201:\n",
    "                print(f\"Connection request sent successfully to {connection['name']}!\")\n",
    "            else:\n",
    "                print(f\"Failed to send connection request to {connection['name']}.\")\n",
    "\n",
    "if __name__ == '__main__':\n",
    "    access_token = os.environ.get(\"ACCESS_TOKEN\")\n",
    "\n",
    "    LinkedInAutomation(access_token).main()\n"
   ]
  },
  {
   "cell_type": "code",
   "execution_count": null,
   "id": "705c5a27",
   "metadata": {},
   "outputs": [],
   "source": []
  }
 ],
 "metadata": {
  "kernelspec": {
   "display_name": "Python 3 (ipykernel)",
   "language": "python",
   "name": "python3"
  },
  "language_info": {
   "codemirror_mode": {
    "name": "ipython",
    "version": 3
   },
   "file_extension": ".py",
   "mimetype": "text/x-python",
   "name": "python",
   "nbconvert_exporter": "python",
   "pygments_lexer": "ipython3",
   "version": "3.9.13"
  }
 },
 "nbformat": 4,
 "nbformat_minor": 5
}
